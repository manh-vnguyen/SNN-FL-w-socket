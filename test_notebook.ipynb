{
 "cells": [
  {
   "cell_type": "code",
   "execution_count": 1,
   "metadata": {},
   "outputs": [
    {
     "name": "stderr",
     "output_type": "stream",
     "text": [
      "/usr/local/lib/python3.8/dist-packages/tqdm/auto.py:21: TqdmWarning: IProgress not found. Please update jupyter and ipywidgets. See https://ipywidgets.readthedocs.io/en/stable/user_install.html\n",
      "  from .autonotebook import tqdm as notebook_tqdm\n"
     ]
    },
    {
     "name": "stdout",
     "output_type": "stream",
     "text": [
      "Files already downloaded and verified\n",
      "Files already downloaded and verified\n"
     ]
    }
   ],
   "source": [
    "from datasets.utils.logging import disable_progress_bar\n",
    "from torch.utils.data import DataLoader, Subset, random_split\n",
    "import torchvision\n",
    "import torch\n",
    "import torch.nn as nn\n",
    "import torch.optim as optim\n",
    "\n",
    "DATA_PATH='/tmp/data/cifar10'\n",
    "DUMP_FILE_NAME = '/tmp/data/fed-data-NonIDD.pkl'\n",
    "\n",
    "BATCH_SIZE = 64\n",
    "NUM_CLIENTS = 10\n",
    "NUM_CLASS = 10\n",
    "\n",
    "\n",
    "transform = torchvision.transforms.Compose([\n",
    "            torchvision.transforms.ToTensor(),\n",
    "            torchvision.transforms.Normalize(\n",
    "                (0.4914, 0.4822, 0.4465), \n",
    "                (0.2023, 0.1994, 0.2010)),\n",
    "            ])\n",
    "\n",
    "cifar10_train = torchvision.datasets.CIFAR10(\n",
    "    root=DATA_PATH,\n",
    "    train=True,\n",
    "    transform=transform,\n",
    "    download=True\n",
    ")\n",
    "\n",
    "cifar10_test = torchvision.datasets.CIFAR10(\n",
    "    root=DATA_PATH,\n",
    "    train=False,\n",
    "    transform=transform,\n",
    "    download=True\n",
    ")\n",
    "\n",
    "train_loader = DataLoader(cifar10_train, batch_size=64, shuffle=True)\n",
    "test_loader = DataLoader(cifar10_test, batch_size=64, shuffle=False)"
   ]
  },
  {
   "cell_type": "code",
   "execution_count": 2,
   "metadata": {},
   "outputs": [],
   "source": []
  },
  {
   "cell_type": "code",
   "execution_count": 3,
   "metadata": {},
   "outputs": [],
   "source": [
    "# Define VGG block\n",
    "def vgg_block(num_convs, in_channels, out_channels):\n",
    "    layers = []\n",
    "    for _ in range(num_convs):\n",
    "        layers += [nn.Conv2d(in_channels, out_channels, kernel_size=3, padding=1), nn.BatchNorm2d(out_channels), nn.ReLU(inplace=True)]\n",
    "        in_channels = out_channels\n",
    "    layers += [nn.MaxPool2d(kernel_size=2, stride=2)]\n",
    "    return nn.Sequential(*layers)\n",
    "\n",
    "# Define the VGG11bn model\n",
    "class VGG11bn(nn.Module):\n",
    "    def __init__(self, num_classes=10):\n",
    "        super(VGG11bn, self).__init__()\n",
    "        self.features = nn.Sequential(\n",
    "            vgg_block(1, 3, 64),\n",
    "            vgg_block(1, 64, 128),\n",
    "            vgg_block(2, 128, 256),\n",
    "            vgg_block(2, 256, 512),\n",
    "            vgg_block(2, 512, 512),\n",
    "        )\n",
    "        self.classifier = nn.Sequential(\n",
    "            nn.Linear(512, 4096),\n",
    "            nn.ReLU(True),\n",
    "            nn.Dropout(),\n",
    "            nn.Linear(4096, 4096),\n",
    "            nn.ReLU(True),\n",
    "            nn.Dropout(),\n",
    "            nn.Linear(4096, num_classes),\n",
    "        )\n",
    "\n",
    "    def forward(self, x):\n",
    "        x = self.features(x)\n",
    "        x = torch.flatten(x, 1)\n",
    "        x = self.classifier(x)\n",
    "        return x"
   ]
  },
  {
   "cell_type": "code",
   "execution_count": 4,
   "metadata": {},
   "outputs": [
    {
     "name": "stdout",
     "output_type": "stream",
     "text": [
      "Epoch 1, Loss: 1.8966399873309123\n",
      "Epoch 2, Loss: 1.4988476328380274\n",
      "Epoch 3, Loss: 1.1953544190625096\n",
      "Epoch 4, Loss: 0.9570493989283472\n",
      "Epoch 5, Loss: 0.7900260783674772\n",
      "Epoch 6, Loss: 0.6771278785698859\n",
      "Epoch 7, Loss: 0.5832006204920961\n",
      "Epoch 8, Loss: 0.49418837670475013\n",
      "Epoch 9, Loss: 0.41230202577722347\n",
      "Epoch 10, Loss: 0.3505897023584074\n"
     ]
    }
   ],
   "source": [
    "# Training settings\n",
    "device = torch.device(\"cuda\" if torch.cuda.is_available() else \"cpu\")\n",
    "model = VGG11bn(num_classes=10).to(device)\n",
    "criterion = nn.CrossEntropyLoss()\n",
    "optimizer = optim.Adam(model.parameters(), lr=0.001)\n"
   ]
  },
  {
   "cell_type": "code",
   "execution_count": 6,
   "metadata": {},
   "outputs": [
    {
     "name": "stdout",
     "output_type": "stream",
     "text": [
      "Epoch 1, Loss: 0.2936335784880935\n",
      "Epoch 2, Loss: 0.24922560699893842\n",
      "Epoch 3, Loss: 0.21101587172121267\n",
      "Epoch 4, Loss: 0.17824730002666678\n",
      "Epoch 5, Loss: 0.14595967465463808\n",
      "Epoch 6, Loss: 0.13911952501486824\n",
      "Epoch 7, Loss: 0.1590074803692091\n",
      "Epoch 8, Loss: 0.10324907992237611\n",
      "Epoch 9, Loss: 0.09589396336215937\n",
      "Epoch 10, Loss: 0.08508980711576675\n"
     ]
    }
   ],
   "source": [
    "\n",
    "# Training loop\n",
    "num_epochs = 10  # Adjust as needed\n",
    "for epoch in range(num_epochs):\n",
    "    model.train()\n",
    "    running_loss = 0.0\n",
    "    for inputs, labels in train_loader:\n",
    "        inputs, labels = inputs.to(device), labels.to(device)\n",
    "        \n",
    "        optimizer.zero_grad()\n",
    "        outputs = model(inputs)\n",
    "        loss = criterion(outputs, labels)\n",
    "        loss.backward()\n",
    "        optimizer.step()\n",
    "        \n",
    "        running_loss += loss.item()\n",
    "    print(f\"Epoch {epoch+1}, Loss: {running_loss/len(train_loader)}\")"
   ]
  },
  {
   "cell_type": "code",
   "execution_count": 5,
   "metadata": {},
   "outputs": [
    {
     "name": "stdout",
     "output_type": "stream",
     "text": [
      "Accuracy of the network on the 10000 test images: 80.88 %\n"
     ]
    }
   ],
   "source": [
    "# Testing for accuracy\n",
    "model.eval()\n",
    "correct = 0\n",
    "total = 0\n",
    "with torch.no_grad():\n",
    "    for inputs, labels in test_loader:\n",
    "        inputs, labels = inputs.to(device), labels.to(device)\n",
    "        outputs = model(inputs)\n",
    "        _, predicted = torch.max(outputs.data, 1)\n",
    "        total += labels.size(0)\n",
    "        correct += (predicted == labels).sum().item()\n",
    "\n",
    "print(f'Accuracy of the network on the 10000 test images: {100 * correct / total} %')"
   ]
  }
 ],
 "metadata": {
  "kernelspec": {
   "display_name": "Python 3",
   "language": "python",
   "name": "python3"
  },
  "language_info": {
   "codemirror_mode": {
    "name": "ipython",
    "version": 3
   },
   "file_extension": ".py",
   "mimetype": "text/x-python",
   "name": "python",
   "nbconvert_exporter": "python",
   "pygments_lexer": "ipython3",
   "version": "3.8.10"
  }
 },
 "nbformat": 4,
 "nbformat_minor": 2
}
