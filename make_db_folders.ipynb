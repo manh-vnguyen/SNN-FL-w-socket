{
 "cells": [
  {
   "cell_type": "code",
   "execution_count": 23,
   "metadata": {},
   "outputs": [
    {
     "name": "stdout",
     "output_type": "stream",
     "text": [
      "\n",
      "MODEL=ANN\n",
      "NOISE=_,0.6\n",
      "PARAMS_COMPRESSION_RATE=_\n",
      "DATA_PATH=/tmp/data/fed-data-CIFAR100-IID.pkl\n",
      "GPU_ASSIGNMENT=0,0,1,1,2,2,3,3\n",
      "SERVER_GPU_ASSIGNMENT=3\n",
      "MIN_FIT_CLIENT=8\n",
      "NUM_STEPS=5\n",
      "NUM_EPOCHS=101\n",
      "NUM_OUTPUTS=100\n",
      "\n",
      "# ./run_w_tmux.sh start --extra_args \"--port 12326 --db_postfix _ANN_CIFAR100_IID_noise_propor_dot6\" --prefix ANN_CIFAR100_IID_noise_propor_dot6\n",
      "\n",
      "# ./run_w_tmux.sh cleantmux --extra_args \"--port 12326 --db_postfix _ANN_CIFAR100_IID_noise_propor_dot6\" --prefix ANN_CIFAR100_IID_noise_propor_dot6\n",
      "\n",
      "\n",
      "\n",
      "# tmux new-session -d -s ANN_CIFAR100_IID_noise_propor_dot6\n",
      "# tmux send-keys -t ANN_CIFAR100_IID_noise_propor_dot6 \"python3 no_comm_fl.py --db_postfix _ANN_CIFAR100_IID_noise_propor_dot6\" C-m\n",
      "\n",
      "# tmux kill-session -t ANN_CIFAR100_IID_noise_propor_dot6\n",
      "\n",
      "\n",
      "tmux new-session -d -s ANN_CIFAR100_IID_noise_propor_dot6\n",
      "tmux send-keys -t ANN_CIFAR100_IID_noise_propor_dot6 \"python3 no_comm_fl.py --db_postfix _ANN_CIFAR100_IID_noise_propor_dot6\" C-m\n",
      "\n"
     ]
    }
   ],
   "source": [
    "import os\n",
    "\n",
    "model = 'ANN'\n",
    "gpu_assignment = '0,0,1,1,2,2,3,3'\n",
    "server_gpu_assignment = 3\n",
    "noise_percent='6'\n",
    "\n",
    "\n",
    "test_name = f\"CIFAR100_IID_noise_propor_dot{noise_percent}\"\n",
    "db_folder = f\"database_{model}_{test_name}\"\n",
    "\n",
    "\n",
    "ENV_STRING = f\"\"\"\n",
    "MODEL={model}\n",
    "NOISE=_,0.{noise_percent}\n",
    "PARAMS_COMPRESSION_RATE=_\n",
    "DATA_PATH=/tmp/data/fed-data-CIFAR100-IID.pkl\n",
    "GPU_ASSIGNMENT={gpu_assignment}\n",
    "SERVER_GPU_ASSIGNMENT={server_gpu_assignment}\n",
    "MIN_FIT_CLIENT=8\n",
    "NUM_STEPS=5\n",
    "NUM_EPOCHS=101\n",
    "NUM_OUTPUTS=100\n",
    "\n",
    "# ./run_w_tmux.sh start --extra_args \"--port 12326 --db_postfix _{model}_{test_name}\" --prefix {model}_{test_name}\n",
    "\n",
    "# ./run_w_tmux.sh cleantmux --extra_args \"--port 12326 --db_postfix _{model}_{test_name}\" --prefix {model}_{test_name}\n",
    "\n",
    "\n",
    "\n",
    "# tmux new-session -d -s {model}_{test_name}\n",
    "# tmux send-keys -t {model}_{test_name} \"python3 no_comm_fl.py --db_postfix _{model}_{test_name}\" C-m\n",
    "\n",
    "# tmux kill-session -t {model}_{test_name}\n",
    "\"\"\"\n",
    "\n",
    "if not os.path.exists(db_folder):\n",
    "    os.mkdir(db_folder)\n",
    "\n",
    "with open(f\"{db_folder}/.env\", \"w\") as file:\n",
    "    file.write(ENV_STRING)\n",
    "\n",
    "print(ENV_STRING)\n",
    "\n",
    "print(f\"\"\"\n",
    "tmux new-session -d -s {model}_{test_name}\n",
    "tmux send-keys -t {model}_{test_name} \"python3 no_comm_fl.py --db_postfix _{model}_{test_name}\" C-m\n",
    "\"\"\")"
   ]
  }
 ],
 "metadata": {
  "kernelspec": {
   "display_name": "Python 3",
   "language": "python",
   "name": "python3"
  },
  "language_info": {
   "codemirror_mode": {
    "name": "ipython",
    "version": 3
   },
   "file_extension": ".py",
   "mimetype": "text/x-python",
   "name": "python",
   "nbconvert_exporter": "python",
   "pygments_lexer": "ipython3",
   "version": "3.8.10"
  }
 },
 "nbformat": 4,
 "nbformat_minor": 2
}
