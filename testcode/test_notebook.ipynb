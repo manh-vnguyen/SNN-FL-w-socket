{
 "cells": [
  {
   "cell_type": "code",
   "execution_count": 7,
   "metadata": {},
   "outputs": [],
   "source": [
    "import pickle\n",
    "AGGREGATION_DATABASE_PATH = 'database/aggregation_database.pkl'\n",
    "with open(AGGREGATION_DATABASE_PATH, 'rb') as file:\n",
    "    data = pickle.load(file)"
   ]
  },
  {
   "cell_type": "code",
   "execution_count": 9,
   "metadata": {},
   "outputs": [
    {
     "name": "stdout",
     "output_type": "stream",
     "text": [
      "0\n",
      "0.09460091590881348\n",
      "9.99599358974359\n",
      "515276060\n"
     ]
    }
   ],
   "source": [
    "print(data['global_model_epoch'])\n",
    "print(data['global_loss'])\n",
    "print(data['global_accuracy'])\n",
    "print(data['global_model_size'])"
   ]
  }
 ],
 "metadata": {
  "kernelspec": {
   "display_name": "Python 3",
   "language": "python",
   "name": "python3"
  },
  "language_info": {
   "codemirror_mode": {
    "name": "ipython",
    "version": 3
   },
   "file_extension": ".py",
   "mimetype": "text/x-python",
   "name": "python",
   "nbconvert_exporter": "python",
   "pygments_lexer": "ipython3",
   "version": "3.8.10"
  }
 },
 "nbformat": 4,
 "nbformat_minor": 2
}
